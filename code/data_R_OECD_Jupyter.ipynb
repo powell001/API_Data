{
 "cells": [
  {
   "cell_type": "code",
   "execution_count": null,
   "metadata": {
    "vscode": {
     "languageId": "r"
    }
   },
   "outputs": [],
   "source": [
    "library(rsdmx)"
   ]
  },
  {
   "cell_type": "code",
   "execution_count": null,
   "metadata": {
    "vscode": {
     "languageId": "r"
    }
   },
   "outputs": [],
   "source": [
    "myUrl <- \"https://stats.oecd.org/restsdmx/sdmx.ashx/GetData/MIG/TOT../OECD?startTime=2011&endTime=2011\"\n",
    "dataset <- readSDMX(myUrl)\n",
    "stats <- as.data.frame(dataset)\n",
    "stats"
   ]
  },
  {
   "cell_type": "code",
   "execution_count": null,
   "metadata": {
    "vscode": {
     "languageId": "r"
    }
   },
   "outputs": [],
   "source": [
    "providers <- getSDMXServiceProviders();\n",
    "as.data.frame(providers)"
   ]
  },
  {
   "cell_type": "code",
   "execution_count": null,
   "metadata": {
    "vscode": {
     "languageId": "r"
    }
   },
   "outputs": [],
   "source": [
    "sdmx <- readSDMX(providerId = \"OECD\", resource = \"data\", flowRef = \"MIG\",\n",
    "                key = list(\"TOT\", NULL, NULL), start = 2010, end = 2011)\n",
    "df <- as.data.frame(sdmx)\n",
    "head(df)"
   ]
  },
  {
   "cell_type": "code",
   "execution_count": null,
   "metadata": {
    "vscode": {
     "languageId": "r"
    }
   },
   "outputs": [],
   "source": [
    "sdmx <- readSDMX(providerId = \"OECD\", resource = \"data\", flowRef = \"MIG\",\n",
    "                key = list(\"TOT\", NULL, NULL), start = 2010, end = 2011,\n",
    "                dsd = TRUE)\n",
    "df <- as.data.frame(sdmx, labels = TRUE)\n",
    "head(df)"
   ]
  },
  {
   "cell_type": "code",
   "execution_count": null,
   "metadata": {
    "vscode": {
     "languageId": "r"
    }
   },
   "outputs": [],
   "source": [
    "#bulk download from Eurostat\n",
    "tf <- tempfile(tmpdir = tdir <- tempdir()) #temp file and folder\n",
    "tf"
   ]
  },
  {
   "cell_type": "code",
   "execution_count": null,
   "metadata": {
    "vscode": {
     "languageId": "r"
    }
   },
   "outputs": [],
   "source": [
    "\n",
    "download.file(\"https://stats.oecd.org/restsdmx/sdmx.ashx/GetData/MIG/TOT../OECD?startTime=2011&endTime=2011\", tf)\n",
    "sdmx_files <- unzip(tf, exdir = tdir)\n",
    "\n",
    "#read local SDMX (set isURL = FALSE)\n",
    "sdmx <- readSDMX(sdmx_files[2], isURL = FALSE)\n",
    "stats <- as.data.frame(sdmx)"
   ]
  }
 ],
 "metadata": {
  "kernelspec": {
   "display_name": "R",
   "language": "R",
   "name": "ir"
  },
  "language_info": {
   "codemirror_mode": "r",
   "file_extension": ".r",
   "mimetype": "text/x-r-source",
   "name": "R",
   "pygments_lexer": "r",
   "version": "4.4.1"
  }
 },
 "nbformat": 4,
 "nbformat_minor": 2
}
