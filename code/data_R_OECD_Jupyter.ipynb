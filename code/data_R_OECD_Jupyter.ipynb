{
 "cells": [
  {
   "cell_type": "code",
   "execution_count": 1,
   "metadata": {
    "vscode": {
     "languageId": "r"
    }
   },
   "outputs": [],
   "source": [
    "library(rsdmx)"
   ]
  },
  {
   "cell_type": "code",
   "execution_count": null,
   "metadata": {
    "vscode": {
     "languageId": "r"
    }
   },
   "outputs": [],
   "source": [
    "myUrl <- \"https://stats.oecd.org/restsdmx/sdmx.ashx/GetData/MIG/TOT../OECD?startTime=2011&endTime=2011\"\n",
    "dataset <- readSDMX(myUrl)\n",
    "stats <- as.data.frame(dataset)\n",
    "stats"
   ]
  },
  {
   "cell_type": "code",
   "execution_count": null,
   "metadata": {
    "vscode": {
     "languageId": "r"
    }
   },
   "outputs": [],
   "source": [
    "providers <- getSDMXServiceProviders();\n",
    "as.data.frame(providers)"
   ]
  },
  {
   "cell_type": "code",
   "execution_count": null,
   "metadata": {
    "vscode": {
     "languageId": "r"
    }
   },
   "outputs": [],
   "source": [
    "sdmx <- readSDMX(providerId = \"OECD\", resource = \"data\", flowRef = \"MIG\",\n",
    "                key = list(\"TOT\", NULL, NULL), start = 2010, end = 2011)\n",
    "df <- as.data.frame(sdmx)\n",
    "head(df)"
   ]
  },
  {
   "cell_type": "code",
   "execution_count": null,
   "metadata": {
    "vscode": {
     "languageId": "r"
    }
   },
   "outputs": [],
   "source": [
    "sdmx <- readSDMX(providerId = \"OECD\", resource = \"data\", flowRef = \"MIG\",\n",
    "                key = list(\"TOT\", NULL, NULL), start = 2010, end = 2011,\n",
    "                dsd = TRUE)\n",
    "df <- as.data.frame(sdmx, labels = TRUE)\n",
    "head(df)"
   ]
  },
  {
   "cell_type": "code",
   "execution_count": 16,
   "metadata": {
    "vscode": {
     "languageId": "r"
    }
   },
   "outputs": [
    {
     "data": {
      "text/html": [
       "'C:\\\\Users\\\\jpark\\\\AppData\\\\Local\\\\Temp\\\\Rtmpa8K7nP\\\\file7ff06d43e2d'"
      ],
      "text/latex": [
       "'C:\\textbackslash{}\\textbackslash{}Users\\textbackslash{}\\textbackslash{}jpark\\textbackslash{}\\textbackslash{}AppData\\textbackslash{}\\textbackslash{}Local\\textbackslash{}\\textbackslash{}Temp\\textbackslash{}\\textbackslash{}Rtmpa8K7nP\\textbackslash{}\\textbackslash{}file7ff06d43e2d'"
      ],
      "text/markdown": [
       "'C:\\\\Users\\\\jpark\\\\AppData\\\\Local\\\\Temp\\\\Rtmpa8K7nP\\\\file7ff06d43e2d'"
      ],
      "text/plain": [
       "[1] \"C:\\\\Users\\\\jpark\\\\AppData\\\\Local\\\\Temp\\\\Rtmpa8K7nP\\\\file7ff06d43e2d\""
      ]
     },
     "metadata": {},
     "output_type": "display_data"
    }
   ],
   "source": [
    "#bulk download from Eurostat\n",
    "tf <- tempfile(tmpdir = tdir <- tempdir()) #temp file and folder\n",
    "tf"
   ]
  },
  {
   "cell_type": "code",
   "execution_count": 18,
   "metadata": {
    "vscode": {
     "languageId": "r"
    }
   },
   "outputs": [
    {
     "name": "stderr",
     "output_type": "stream",
     "text": [
      "Warning message in download.file(\"https://stats.oecd.org/restsdmx/sdmx.ashx/GetData/MIG/TOT../OECD?startTime=2011&endTime=2011\", :\n",
      "\"URL 'https://sdmx.oecd.org/public/rest/data/OECD.ELS.IMD,DSD_MIG@DF_MIG/all?lastNObservations=5&dimensionAtObservation=AllDimensions': Timeout of 60 seconds was reached\"\n"
     ]
    },
    {
     "ename": "ERROR",
     "evalue": "Error in download.file(\"https://stats.oecd.org/restsdmx/sdmx.ashx/GetData/MIG/TOT../OECD?startTime=2011&endTime=2011\", : download from 'https://stats.oecd.org/restsdmx/sdmx.ashx/GetData/MIG/TOT../OECD?startTime=2011&endTime=2011' failed\n",
     "output_type": "error",
     "traceback": [
      "Error in download.file(\"https://stats.oecd.org/restsdmx/sdmx.ashx/GetData/MIG/TOT../OECD?startTime=2011&endTime=2011\", : download from 'https://stats.oecd.org/restsdmx/sdmx.ashx/GetData/MIG/TOT../OECD?startTime=2011&endTime=2011' failed\nTraceback:\n",
      "1. .handleSimpleError(function (cnd) \n . {\n .     watcher$capture_plot_and_output()\n .     cnd <- sanitize_call(cnd)\n .     watcher$push(cnd)\n .     switch(on_error, continue = invokeRestart(\"eval_continue\"), \n .         stop = invokeRestart(\"eval_stop\"), error = invokeRestart(\"eval_error\", \n .             cnd))\n . }, \"download from 'https://stats.oecd.org/restsdmx/sdmx.ashx/GetData/MIG/TOT../OECD?startTime=2011&endTime=2011' failed\", \n .     base::quote(download.file(\"https://stats.oecd.org/restsdmx/sdmx.ashx/GetData/MIG/TOT../OECD?startTime=2011&endTime=2011\", \n .         tf)))"
     ]
    }
   ],
   "source": [
    "\n",
    "download.file(\"https://stats.oecd.org/restsdmx/sdmx.ashx/GetData/MIG/TOT../OECD?startTime=2011&endTime=2011\", tf)\n",
    "sdmx_files <- unzip(tf, exdir = tdir)\n",
    "\n",
    "#read local SDMX (set isURL = FALSE)\n",
    "sdmx <- readSDMX(sdmx_files[2], isURL = FALSE)\n",
    "stats <- as.data.frame(sdmx)"
   ]
  }
 ],
 "metadata": {
  "kernelspec": {
   "display_name": "R",
   "language": "R",
   "name": "ir"
  },
  "language_info": {
   "codemirror_mode": "r",
   "file_extension": ".r",
   "mimetype": "text/x-r-source",
   "name": "R",
   "pygments_lexer": "r",
   "version": "4.4.1"
  }
 },
 "nbformat": 4,
 "nbformat_minor": 2
}
