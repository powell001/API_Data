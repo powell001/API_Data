{
 "cells": [
  {
   "cell_type": "code",
   "execution_count": 137,
   "metadata": {},
   "outputs": [],
   "source": [
    "import eurostat\n",
    "import pandas as pd\n",
    "import matplotlib.pyplot as plt\n",
    "import requests\n",
    "import json"
   ]
  },
  {
   "cell_type": "code",
   "execution_count": 138,
   "metadata": {},
   "outputs": [],
   "source": [
    "settings = {'figure.figsize':(14,4),\n",
    "            'figure.dpi':144,\n",
    "            'figure.facecolor':'w',\n",
    "            'axes.spines.top':False,\n",
    "            'axes.spines.bottom':False,\n",
    "            'axes.spines.left':False,\n",
    "            'axes.spines.right':False,\n",
    "            'axes.grid':True,\n",
    "            'grid.linestyle':'--',\n",
    "            'grid.linewidth':0.5, \n",
    "            'figure.constrained_layout.use':True}\n",
    "plt.rcParams.update(settings)\n",
    "\n",
    "%config InlineBackend.figure_format = \"retina\""
   ]
  },
  {
   "cell_type": "code",
   "execution_count": null,
   "metadata": {},
   "outputs": [],
   "source": [
    "data = eurostat.get_data_df('une_rt_m')\n",
    "data = data[data['geo\\TIME_PERIOD'].isin(['EU27_2020', 'NL'])]\n",
    "data = data[data['age'].isin(['TOTAL'])]\n",
    "data = data[data['s_adj'].isin(['NSA'])]\n",
    "data = data[data['unit'].isin(['PC_ACT'])]\n",
    "newColumns = data['sex'] + \"_\" + data['geo\\TIME_PERIOD']\n",
    "data.drop(['sex', 'geo\\TIME_PERIOD', 'freq','s_adj','age','unit'], axis=1, inplace=True)\n",
    "data"
   ]
  },
  {
   "cell_type": "code",
   "execution_count": null,
   "metadata": {},
   "outputs": [],
   "source": [
    "data = data.T\n",
    "data.columns = newColumns\n",
    "data.index = pd.date_range(\"1980-01-01\", periods=data.shape[0], freq=\"MS\")\n",
    "data.plot(title='Unemplyment Percent NL and Europe');"
   ]
  },
  {
   "cell_type": "code",
   "execution_count": null,
   "metadata": {},
   "outputs": [],
   "source": [
    "import requests\n",
    "\n",
    "url = 'https://api.dnb.nl/echo-api/helloworld'\n",
    "\n",
    "response = requests.get(url, headers={'Ocp-Apim-Subscription-Key': '22705b2ed8d94fc3823a88079e890baf'})\n",
    "print(response.text)"
   ]
  },
  {
   "cell_type": "code",
   "execution_count": null,
   "metadata": {},
   "outputs": [],
   "source": [
    "# BOP https://www.dnb.nl/en/statistics/data-search/#/details/balance-of-payments-quarter/dataset/5b160938-6940-4a6e-89b1-fccc027194c6/resource/9df04bfa-aa59-44d1-8a5d-e92af5569c7a\n",
    "\n",
    "url = 'https://api.dnb.nl/statisticsdata/v2024100101/balance-sheet-of-de-nederlandsche-bank-month-non-break-adjusted?page=1&pageSize=15360&sort=period asc'\n",
    "response = requests.get(url, headers={'Ocp-Apim-Subscription-Key': '22705b2ed8d94fc3823a88079e890baf',})\n",
    "\n",
    "response_dict = json.loads(response.text)\n",
    "response_dict\n"
   ]
  },
  {
   "cell_type": "code",
   "execution_count": null,
   "metadata": {},
   "outputs": [],
   "source": [
    "\n",
    "for i in response_dict:\n",
    "    print(\"key: \", i, \"val: \", response_dict[i])\n",
    "    print(\"\\n\")\n",
    "\n",
    "for key, value in response_dict.items() :\n",
    "    print(key, '\\n')\n",
    "\n",
    "df1 = pd.DataFrame.from_dict(response_dict['records'])\n",
    "df1.to_csv('dnb.csv', index=False) \n",
    "#tests"
   ]
  }
 ],
 "metadata": {
  "kernelspec": {
   "display_name": ".venv",
   "language": "python",
   "name": "python3"
  },
  "language_info": {
   "codemirror_mode": {
    "name": "ipython",
    "version": 3
   },
   "file_extension": ".py",
   "mimetype": "text/x-python",
   "name": "python",
   "nbconvert_exporter": "python",
   "pygments_lexer": "ipython3",
   "version": "3.11.9"
  }
 },
 "nbformat": 4,
 "nbformat_minor": 2
}
